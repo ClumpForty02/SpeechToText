{
 "cells": [
  {
   "cell_type": "code",
   "execution_count": 3,
   "id": "40d81b28-629b-48a2-8c2e-9ae665d4d897",
   "metadata": {},
   "outputs": [
    {
     "name": "stdout",
     "output_type": "stream",
     "text": [
      "Say something.....\n",
      "Recognized text here: hello world\n"
     ]
    }
   ],
   "source": [
    "import speech_recognition\n",
    "import pyttsx3\n",
    "\n",
    "recognizer = speech_recognition.Recognizer()\n",
    "\n",
    "while True:\n",
    "\n",
    "    try:\n",
    "        with speech_recognition.Microphone() as mic:\n",
    "            recognizer.adjust_for_ambient_noise(mic, duration=0.2)\n",
    "            print(\"Say something.....\")\n",
    "            audio = recognizer.listen(mic)\n",
    "        try:\n",
    "            text = recognizer.recognize_google(audio)\n",
    "            text = text.lower()\n",
    "\n",
    "            print(f\"Recognized text here: {text}\")\n",
    "        except Exception as e:\n",
    "            print(\"Speech recognition error:\", e)\n",
    "\n",
    "    except KeyboardInterrupt:\n",
    "        print(\"Exiting...\")\n",
    "    break\n"
   ]
  },
  {
   "cell_type": "code",
   "execution_count": null,
   "id": "2381696a-7678-4db3-9186-5c5fb454bf51",
   "metadata": {},
   "outputs": [],
   "source": []
  },
  {
   "cell_type": "code",
   "execution_count": null,
   "id": "08ae070a-ac37-4576-9d62-d3cb3dcd900e",
   "metadata": {},
   "outputs": [],
   "source": []
  }
 ],
 "metadata": {
  "kernelspec": {
   "display_name": "Python 3 (ipykernel)",
   "language": "python",
   "name": "python3"
  },
  "language_info": {
   "codemirror_mode": {
    "name": "ipython",
    "version": 3
   },
   "file_extension": ".py",
   "mimetype": "text/x-python",
   "name": "python",
   "nbconvert_exporter": "python",
   "pygments_lexer": "ipython3",
   "version": "3.12.0"
  }
 },
 "nbformat": 4,
 "nbformat_minor": 5
}
